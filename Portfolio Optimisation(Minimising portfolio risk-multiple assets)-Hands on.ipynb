{
 "cells": [
  {
   "cell_type": "markdown",
   "id": "865e11ec",
   "metadata": {},
   "source": [
    "## Reducing portfolio risk by diversification\n",
    "## compiler: Mashele Given Phazamisa"
   ]
  },
  {
   "cell_type": "code",
   "execution_count": 1,
   "id": "3506407e",
   "metadata": {},
   "outputs": [],
   "source": [
    "### Import the necessary libraries\n",
    "import pandas as pd\n",
    "import numpy as np\n",
    "import matplotlib.pyplot as plt\n",
    "import seaborn as sns\n",
    "sns.set()\n",
    "from datetime import  datetime,timedelta\n",
    "from scipy.optimize import minimize  ## scientific python function to deal with optimisation"
   ]
  },
  {
   "cell_type": "markdown",
   "id": "f34d9807",
   "metadata": {},
   "source": [
    "## Part 1:\n",
    "1. Create a vector of weights which sum up to 1\n",
    "2. Calculate the annualised Expected return for the portfolio\n",
    "3. Calculate the annualised standard deviation for the portfolio.\n",
    "4. Calculate the annualised Expected Return and Standard Deviation for the market portfolio"
   ]
  },
  {
   "cell_type": "markdown",
   "id": "26f270a6",
   "metadata": {},
   "source": [
    "### Ten Stock dataset analysis"
   ]
  },
  {
   "cell_type": "code",
   "execution_count": 2,
   "id": "0f35e1d8",
   "metadata": {},
   "outputs": [],
   "source": [
    "## Now lets read the 10 stock prices dataset\n",
    "data = pd.read_csv('stock_prices_data.csv',sep=';')"
   ]
  },
  {
   "cell_type": "code",
   "execution_count": 3,
   "id": "8c79191f",
   "metadata": {},
   "outputs": [
    {
     "data": {
      "text/html": [
       "<div>\n",
       "<style scoped>\n",
       "    .dataframe tbody tr th:only-of-type {\n",
       "        vertical-align: middle;\n",
       "    }\n",
       "\n",
       "    .dataframe tbody tr th {\n",
       "        vertical-align: top;\n",
       "    }\n",
       "\n",
       "    .dataframe thead th {\n",
       "        text-align: right;\n",
       "    }\n",
       "</style>\n",
       "<table border=\"1\" class=\"dataframe\">\n",
       "  <thead>\n",
       "    <tr style=\"text-align: right;\">\n",
       "      <th></th>\n",
       "      <th>Date</th>\n",
       "      <th>SPY</th>\n",
       "      <th>BND</th>\n",
       "      <th>GLD</th>\n",
       "      <th>NFLX</th>\n",
       "      <th>VTI</th>\n",
       "      <th>IBM</th>\n",
       "      <th>AAPL</th>\n",
       "      <th>TSLA</th>\n",
       "      <th>VZ</th>\n",
       "      <th>GE</th>\n",
       "    </tr>\n",
       "  </thead>\n",
       "  <tbody>\n",
       "    <tr>\n",
       "      <th>0</th>\n",
       "      <td>2019/01/30 00:00</td>\n",
       "      <td>267.579987</td>\n",
       "      <td>79.720001</td>\n",
       "      <td>124.690002</td>\n",
       "      <td>340.660004</td>\n",
       "      <td>137.320007</td>\n",
       "      <td>128.470367</td>\n",
       "      <td>41.312500</td>\n",
       "      <td>20.584667</td>\n",
       "      <td>54.000000</td>\n",
       "      <td>54.644810</td>\n",
       "    </tr>\n",
       "    <tr>\n",
       "      <th>1</th>\n",
       "      <td>2019/01/31 00:00</td>\n",
       "      <td>269.929993</td>\n",
       "      <td>80.089996</td>\n",
       "      <td>124.750000</td>\n",
       "      <td>339.500000</td>\n",
       "      <td>138.529999</td>\n",
       "      <td>128.508606</td>\n",
       "      <td>41.610001</td>\n",
       "      <td>20.468000</td>\n",
       "      <td>55.060001</td>\n",
       "      <td>61.010029</td>\n",
       "    </tr>\n",
       "    <tr>\n",
       "      <th>2</th>\n",
       "      <td>2019/02/01 00:00</td>\n",
       "      <td>270.059998</td>\n",
       "      <td>79.669998</td>\n",
       "      <td>124.500000</td>\n",
       "      <td>339.850006</td>\n",
       "      <td>138.729996</td>\n",
       "      <td>128.202683</td>\n",
       "      <td>41.630001</td>\n",
       "      <td>20.813999</td>\n",
       "      <td>54.549999</td>\n",
       "      <td>61.190174</td>\n",
       "    </tr>\n",
       "    <tr>\n",
       "      <th>3</th>\n",
       "      <td>2019/02/04 00:00</td>\n",
       "      <td>271.959992</td>\n",
       "      <td>79.599998</td>\n",
       "      <td>123.959999</td>\n",
       "      <td>351.339996</td>\n",
       "      <td>139.720001</td>\n",
       "      <td>129.244736</td>\n",
       "      <td>42.812500</td>\n",
       "      <td>20.859333</td>\n",
       "      <td>54.040001</td>\n",
       "      <td>61.310272</td>\n",
       "    </tr>\n",
       "    <tr>\n",
       "      <th>4</th>\n",
       "      <td>2019/02/05 00:00</td>\n",
       "      <td>273.100006</td>\n",
       "      <td>79.769997</td>\n",
       "      <td>124.279999</td>\n",
       "      <td>355.809998</td>\n",
       "      <td>140.300003</td>\n",
       "      <td>129.588913</td>\n",
       "      <td>43.544998</td>\n",
       "      <td>21.423332</td>\n",
       "      <td>54.139999</td>\n",
       "      <td>63.832344</td>\n",
       "    </tr>\n",
       "  </tbody>\n",
       "</table>\n",
       "</div>"
      ],
      "text/plain": [
       "               Date         SPY        BND         GLD        NFLX  \\\n",
       "0  2019/01/30 00:00  267.579987  79.720001  124.690002  340.660004   \n",
       "1  2019/01/31 00:00  269.929993  80.089996  124.750000  339.500000   \n",
       "2  2019/02/01 00:00  270.059998  79.669998  124.500000  339.850006   \n",
       "3  2019/02/04 00:00  271.959992  79.599998  123.959999  351.339996   \n",
       "4  2019/02/05 00:00  273.100006  79.769997  124.279999  355.809998   \n",
       "\n",
       "          VTI         IBM       AAPL       TSLA         VZ         GE  \n",
       "0  137.320007  128.470367  41.312500  20.584667  54.000000  54.644810  \n",
       "1  138.529999  128.508606  41.610001  20.468000  55.060001  61.010029  \n",
       "2  138.729996  128.202683  41.630001  20.813999  54.549999  61.190174  \n",
       "3  139.720001  129.244736  42.812500  20.859333  54.040001  61.310272  \n",
       "4  140.300003  129.588913  43.544998  21.423332  54.139999  63.832344  "
      ]
     },
     "execution_count": 3,
     "metadata": {},
     "output_type": "execute_result"
    }
   ],
   "source": [
    "## lets display the five rows of the dataset\n",
    "data.head()"
   ]
  },
  {
   "cell_type": "code",
   "execution_count": 4,
   "id": "ae0c28d5",
   "metadata": {},
   "outputs": [],
   "source": [
    "### Lets set the index as Date\n",
    "data.set_index('Date',inplace=True)"
   ]
  },
  {
   "cell_type": "code",
   "execution_count": 5,
   "id": "6369fca6",
   "metadata": {},
   "outputs": [
    {
     "data": {
      "text/html": [
       "<div>\n",
       "<style scoped>\n",
       "    .dataframe tbody tr th:only-of-type {\n",
       "        vertical-align: middle;\n",
       "    }\n",
       "\n",
       "    .dataframe tbody tr th {\n",
       "        vertical-align: top;\n",
       "    }\n",
       "\n",
       "    .dataframe thead th {\n",
       "        text-align: right;\n",
       "    }\n",
       "</style>\n",
       "<table border=\"1\" class=\"dataframe\">\n",
       "  <thead>\n",
       "    <tr style=\"text-align: right;\">\n",
       "      <th></th>\n",
       "      <th>SPY</th>\n",
       "      <th>BND</th>\n",
       "      <th>GLD</th>\n",
       "      <th>NFLX</th>\n",
       "      <th>VTI</th>\n",
       "      <th>IBM</th>\n",
       "      <th>AAPL</th>\n",
       "      <th>TSLA</th>\n",
       "      <th>VZ</th>\n",
       "      <th>GE</th>\n",
       "    </tr>\n",
       "    <tr>\n",
       "      <th>Date</th>\n",
       "      <th></th>\n",
       "      <th></th>\n",
       "      <th></th>\n",
       "      <th></th>\n",
       "      <th></th>\n",
       "      <th></th>\n",
       "      <th></th>\n",
       "      <th></th>\n",
       "      <th></th>\n",
       "      <th></th>\n",
       "    </tr>\n",
       "  </thead>\n",
       "  <tbody>\n",
       "    <tr>\n",
       "      <th>2019/01/30 00:00</th>\n",
       "      <td>267.579987</td>\n",
       "      <td>79.720001</td>\n",
       "      <td>124.690002</td>\n",
       "      <td>340.660004</td>\n",
       "      <td>137.320007</td>\n",
       "      <td>128.470367</td>\n",
       "      <td>41.312500</td>\n",
       "      <td>20.584667</td>\n",
       "      <td>54.000000</td>\n",
       "      <td>54.644810</td>\n",
       "    </tr>\n",
       "    <tr>\n",
       "      <th>2019/01/31 00:00</th>\n",
       "      <td>269.929993</td>\n",
       "      <td>80.089996</td>\n",
       "      <td>124.750000</td>\n",
       "      <td>339.500000</td>\n",
       "      <td>138.529999</td>\n",
       "      <td>128.508606</td>\n",
       "      <td>41.610001</td>\n",
       "      <td>20.468000</td>\n",
       "      <td>55.060001</td>\n",
       "      <td>61.010029</td>\n",
       "    </tr>\n",
       "    <tr>\n",
       "      <th>2019/02/01 00:00</th>\n",
       "      <td>270.059998</td>\n",
       "      <td>79.669998</td>\n",
       "      <td>124.500000</td>\n",
       "      <td>339.850006</td>\n",
       "      <td>138.729996</td>\n",
       "      <td>128.202683</td>\n",
       "      <td>41.630001</td>\n",
       "      <td>20.813999</td>\n",
       "      <td>54.549999</td>\n",
       "      <td>61.190174</td>\n",
       "    </tr>\n",
       "    <tr>\n",
       "      <th>2019/02/04 00:00</th>\n",
       "      <td>271.959992</td>\n",
       "      <td>79.599998</td>\n",
       "      <td>123.959999</td>\n",
       "      <td>351.339996</td>\n",
       "      <td>139.720001</td>\n",
       "      <td>129.244736</td>\n",
       "      <td>42.812500</td>\n",
       "      <td>20.859333</td>\n",
       "      <td>54.040001</td>\n",
       "      <td>61.310272</td>\n",
       "    </tr>\n",
       "    <tr>\n",
       "      <th>2019/02/05 00:00</th>\n",
       "      <td>273.100006</td>\n",
       "      <td>79.769997</td>\n",
       "      <td>124.279999</td>\n",
       "      <td>355.809998</td>\n",
       "      <td>140.300003</td>\n",
       "      <td>129.588913</td>\n",
       "      <td>43.544998</td>\n",
       "      <td>21.423332</td>\n",
       "      <td>54.139999</td>\n",
       "      <td>63.832344</td>\n",
       "    </tr>\n",
       "  </tbody>\n",
       "</table>\n",
       "</div>"
      ],
      "text/plain": [
       "                         SPY        BND         GLD        NFLX         VTI  \\\n",
       "Date                                                                          \n",
       "2019/01/30 00:00  267.579987  79.720001  124.690002  340.660004  137.320007   \n",
       "2019/01/31 00:00  269.929993  80.089996  124.750000  339.500000  138.529999   \n",
       "2019/02/01 00:00  270.059998  79.669998  124.500000  339.850006  138.729996   \n",
       "2019/02/04 00:00  271.959992  79.599998  123.959999  351.339996  139.720001   \n",
       "2019/02/05 00:00  273.100006  79.769997  124.279999  355.809998  140.300003   \n",
       "\n",
       "                         IBM       AAPL       TSLA         VZ         GE  \n",
       "Date                                                                      \n",
       "2019/01/30 00:00  128.470367  41.312500  20.584667  54.000000  54.644810  \n",
       "2019/01/31 00:00  128.508606  41.610001  20.468000  55.060001  61.010029  \n",
       "2019/02/01 00:00  128.202683  41.630001  20.813999  54.549999  61.190174  \n",
       "2019/02/04 00:00  129.244736  42.812500  20.859333  54.040001  61.310272  \n",
       "2019/02/05 00:00  129.588913  43.544998  21.423332  54.139999  63.832344  "
      ]
     },
     "execution_count": 5,
     "metadata": {},
     "output_type": "execute_result"
    }
   ],
   "source": [
    "data.head()"
   ]
  },
  {
   "cell_type": "markdown",
   "id": "cdea5944",
   "metadata": {},
   "source": [
    "### Stock returns calculations"
   ]
  },
  {
   "cell_type": "code",
   "execution_count": 43,
   "id": "73abd080",
   "metadata": {},
   "outputs": [],
   "source": [
    "### Create a function to calcualate the portfolio risk\n",
    "def getPort_Expected_Return(init_weights):\n",
    "    # Now lets calculate the return on each stock\n",
    "    returns_df = data.pct_change(1).dropna()\n",
    "    # let create a code to find the number of stocks\n",
    "    num_stocks = len(returns_df.columns)\n",
    "    # Lets calculate the mean returns on each stock\n",
    "    expected_mean_return= returns_df.mean()\n",
    "    ### Lets compute the portfolio daily expected return\n",
    "    port_daily_expected_return = np.dot(np.transpose(init_weights),expected_mean_return)\n",
    "    ### Now lets compute the annualised portfolio return:using sophisticated method\n",
    "    port_annual_expected_return = (((1+port_daily_expected_return)**250 -1 ))\n",
    "    return port_annual_expected_return"
   ]
  },
  {
   "cell_type": "code",
   "execution_count": 44,
   "id": "ad6cf995",
   "metadata": {},
   "outputs": [],
   "source": [
    "# Create the weights for each dataframe: assume equal weightings\n",
    "num_stocks = len(data.columns)\n",
    "weights = [1/num_stocks]*num_stocks"
   ]
  },
  {
   "cell_type": "code",
   "execution_count": 45,
   "id": "3f169531",
   "metadata": {},
   "outputs": [
    {
     "name": "stdout",
     "output_type": "stream",
     "text": [
      "The annualised portfolio expected return is:0.20968977159275792\n"
     ]
    }
   ],
   "source": [
    "## Lets now compute the annualised expected return of the portfolio:\n",
    "print(f'The annualised portfolio expected return is:{getPort_Expected_Return(init_weights=weights)}')"
   ]
  },
  {
   "cell_type": "markdown",
   "id": "64c11cd7",
   "metadata": {},
   "source": [
    "### Compute the annualised standard deviation of the portfolio"
   ]
  },
  {
   "cell_type": "code",
   "execution_count": 9,
   "id": "f1b7343d",
   "metadata": {},
   "outputs": [],
   "source": [
    "### Create a function to calcualate the portfolio risk\n",
    "def getPortRisk(init_weights):\n",
    "    # Now lets calculate the return on each stock\n",
    "    returns_df = data.pct_change(1).dropna()\n",
    "    # let create a code to find the number of stocks\n",
    "    num_stocks = len(returns_df.columns)\n",
    "    # Lets calcuate the variance covariance matrix\n",
    "    vcv = returns_df.cov() \n",
    "    # Now lets compute the variance of each portfolio created\n",
    "    var_p = np.dot(np.transpose(init_weights),np.dot(vcv,init_weights))\n",
    "    # now lets compute the daily portfolio standard deviation\n",
    "    sd_p = np.sqrt(var_p)\n",
    "    # now lets compute the annualised standard deviation for the portfolio\n",
    "    annual_sd_p =  sd_p*np.sqrt(250)\n",
    "    return annual_sd_p"
   ]
  },
  {
   "cell_type": "code",
   "execution_count": 10,
   "id": "b3e4f55f",
   "metadata": {},
   "outputs": [],
   "source": [
    "# calculate the weights for each dataframe: assume equal weightings\n",
    "num_stocks = len(data.columns)\n",
    "init_weights = [1/num_stocks]*num_stocks"
   ]
  },
  {
   "cell_type": "code",
   "execution_count": 11,
   "id": "3b5b2652",
   "metadata": {},
   "outputs": [
    {
     "name": "stdout",
     "output_type": "stream",
     "text": [
      "The annualised portfolio standard deviation is:0.19248567484945814\n"
     ]
    }
   ],
   "source": [
    "## Lets now compute the annualised expected return of the portfolio:\n",
    "print(f'The annualised portfolio standard deviation is:{getPortRisk(init_weights)}')"
   ]
  },
  {
   "cell_type": "markdown",
   "id": "07265ae8",
   "metadata": {},
   "source": [
    "### Market Portfolio Analysis"
   ]
  },
  {
   "cell_type": "code",
   "execution_count": 12,
   "id": "d568bd86",
   "metadata": {},
   "outputs": [],
   "source": [
    "# Lets read the market portfolio dataset\n",
    "df = pd.read_csv('sp500_price.csv')"
   ]
  },
  {
   "cell_type": "code",
   "execution_count": 13,
   "id": "7a60617a",
   "metadata": {},
   "outputs": [
    {
     "data": {
      "text/html": [
       "<div>\n",
       "<style scoped>\n",
       "    .dataframe tbody tr th:only-of-type {\n",
       "        vertical-align: middle;\n",
       "    }\n",
       "\n",
       "    .dataframe tbody tr th {\n",
       "        vertical-align: top;\n",
       "    }\n",
       "\n",
       "    .dataframe thead th {\n",
       "        text-align: right;\n",
       "    }\n",
       "</style>\n",
       "<table border=\"1\" class=\"dataframe\">\n",
       "  <thead>\n",
       "    <tr style=\"text-align: right;\">\n",
       "      <th></th>\n",
       "      <th>Date</th>\n",
       "      <th>sp500</th>\n",
       "    </tr>\n",
       "  </thead>\n",
       "  <tbody>\n",
       "    <tr>\n",
       "      <th>0</th>\n",
       "      <td>01/03/2012 16:00</td>\n",
       "      <td>1277.06</td>\n",
       "    </tr>\n",
       "    <tr>\n",
       "      <th>1</th>\n",
       "      <td>01/04/2012 16:00</td>\n",
       "      <td>1277.30</td>\n",
       "    </tr>\n",
       "    <tr>\n",
       "      <th>2</th>\n",
       "      <td>01/05/2012 16:00</td>\n",
       "      <td>1281.06</td>\n",
       "    </tr>\n",
       "    <tr>\n",
       "      <th>3</th>\n",
       "      <td>01/06/2012 16:00</td>\n",
       "      <td>1277.81</td>\n",
       "    </tr>\n",
       "    <tr>\n",
       "      <th>4</th>\n",
       "      <td>01/09/2012 16:00</td>\n",
       "      <td>1280.70</td>\n",
       "    </tr>\n",
       "  </tbody>\n",
       "</table>\n",
       "</div>"
      ],
      "text/plain": [
       "               Date    sp500\n",
       "0  01/03/2012 16:00  1277.06\n",
       "1  01/04/2012 16:00  1277.30\n",
       "2  01/05/2012 16:00  1281.06\n",
       "3  01/06/2012 16:00  1277.81\n",
       "4  01/09/2012 16:00  1280.70"
      ]
     },
     "execution_count": 13,
     "metadata": {},
     "output_type": "execute_result"
    }
   ],
   "source": [
    "df.head()"
   ]
  },
  {
   "cell_type": "code",
   "execution_count": 14,
   "id": "661dbd59",
   "metadata": {},
   "outputs": [],
   "source": [
    "### Lets the index as Date\n",
    "df.set_index('Date',inplace=True)"
   ]
  },
  {
   "cell_type": "code",
   "execution_count": 15,
   "id": "daeada45",
   "metadata": {},
   "outputs": [
    {
     "data": {
      "text/html": [
       "<div>\n",
       "<style scoped>\n",
       "    .dataframe tbody tr th:only-of-type {\n",
       "        vertical-align: middle;\n",
       "    }\n",
       "\n",
       "    .dataframe tbody tr th {\n",
       "        vertical-align: top;\n",
       "    }\n",
       "\n",
       "    .dataframe thead th {\n",
       "        text-align: right;\n",
       "    }\n",
       "</style>\n",
       "<table border=\"1\" class=\"dataframe\">\n",
       "  <thead>\n",
       "    <tr style=\"text-align: right;\">\n",
       "      <th></th>\n",
       "      <th>sp500</th>\n",
       "    </tr>\n",
       "    <tr>\n",
       "      <th>Date</th>\n",
       "      <th></th>\n",
       "    </tr>\n",
       "  </thead>\n",
       "  <tbody>\n",
       "    <tr>\n",
       "      <th>01/03/2012 16:00</th>\n",
       "      <td>1277.06</td>\n",
       "    </tr>\n",
       "    <tr>\n",
       "      <th>01/04/2012 16:00</th>\n",
       "      <td>1277.30</td>\n",
       "    </tr>\n",
       "    <tr>\n",
       "      <th>01/05/2012 16:00</th>\n",
       "      <td>1281.06</td>\n",
       "    </tr>\n",
       "    <tr>\n",
       "      <th>01/06/2012 16:00</th>\n",
       "      <td>1277.81</td>\n",
       "    </tr>\n",
       "    <tr>\n",
       "      <th>01/09/2012 16:00</th>\n",
       "      <td>1280.70</td>\n",
       "    </tr>\n",
       "  </tbody>\n",
       "</table>\n",
       "</div>"
      ],
      "text/plain": [
       "                    sp500\n",
       "Date                     \n",
       "01/03/2012 16:00  1277.06\n",
       "01/04/2012 16:00  1277.30\n",
       "01/05/2012 16:00  1281.06\n",
       "01/06/2012 16:00  1277.81\n",
       "01/09/2012 16:00  1280.70"
      ]
     },
     "execution_count": 15,
     "metadata": {},
     "output_type": "execute_result"
    }
   ],
   "source": [
    "df.head()"
   ]
  },
  {
   "cell_type": "code",
   "execution_count": 16,
   "id": "82320793",
   "metadata": {},
   "outputs": [],
   "source": [
    "## Code to compute the returns on each timestamp and drop the missing values\n",
    "market_returns = df.pct_change(1).dropna()"
   ]
  },
  {
   "cell_type": "code",
   "execution_count": 17,
   "id": "b4b42a00",
   "metadata": {},
   "outputs": [],
   "source": [
    "market_returns.rename(columns={'sp500':'returns'},inplace=True)"
   ]
  },
  {
   "cell_type": "code",
   "execution_count": 18,
   "id": "7df5e6d0",
   "metadata": {},
   "outputs": [
    {
     "data": {
      "text/html": [
       "<div>\n",
       "<style scoped>\n",
       "    .dataframe tbody tr th:only-of-type {\n",
       "        vertical-align: middle;\n",
       "    }\n",
       "\n",
       "    .dataframe tbody tr th {\n",
       "        vertical-align: top;\n",
       "    }\n",
       "\n",
       "    .dataframe thead th {\n",
       "        text-align: right;\n",
       "    }\n",
       "</style>\n",
       "<table border=\"1\" class=\"dataframe\">\n",
       "  <thead>\n",
       "    <tr style=\"text-align: right;\">\n",
       "      <th></th>\n",
       "      <th>returns</th>\n",
       "    </tr>\n",
       "    <tr>\n",
       "      <th>Date</th>\n",
       "      <th></th>\n",
       "    </tr>\n",
       "  </thead>\n",
       "  <tbody>\n",
       "    <tr>\n",
       "      <th>01/04/2012 16:00</th>\n",
       "      <td>0.000188</td>\n",
       "    </tr>\n",
       "    <tr>\n",
       "      <th>01/05/2012 16:00</th>\n",
       "      <td>0.002944</td>\n",
       "    </tr>\n",
       "    <tr>\n",
       "      <th>01/06/2012 16:00</th>\n",
       "      <td>-0.002537</td>\n",
       "    </tr>\n",
       "    <tr>\n",
       "      <th>01/09/2012 16:00</th>\n",
       "      <td>0.002262</td>\n",
       "    </tr>\n",
       "    <tr>\n",
       "      <th>01/10/2012 16:00</th>\n",
       "      <td>0.008886</td>\n",
       "    </tr>\n",
       "  </tbody>\n",
       "</table>\n",
       "</div>"
      ],
      "text/plain": [
       "                   returns\n",
       "Date                      \n",
       "01/04/2012 16:00  0.000188\n",
       "01/05/2012 16:00  0.002944\n",
       "01/06/2012 16:00 -0.002537\n",
       "01/09/2012 16:00  0.002262\n",
       "01/10/2012 16:00  0.008886"
      ]
     },
     "execution_count": 18,
     "metadata": {},
     "output_type": "execute_result"
    }
   ],
   "source": [
    "market_returns.head()"
   ]
  },
  {
   "cell_type": "code",
   "execution_count": 19,
   "id": "dc60c69c",
   "metadata": {},
   "outputs": [],
   "source": [
    "### Lets compute the daily market returns:\n",
    "daily_market_return = market_returns['returns'].mean()"
   ]
  },
  {
   "cell_type": "code",
   "execution_count": 20,
   "id": "06636fc7",
   "metadata": {},
   "outputs": [
    {
     "data": {
      "text/plain": [
       "0.0005191262038891577"
      ]
     },
     "execution_count": 20,
     "metadata": {},
     "output_type": "execute_result"
    }
   ],
   "source": [
    "daily_market_return"
   ]
  },
  {
   "cell_type": "code",
   "execution_count": 21,
   "id": "95d6d744",
   "metadata": {},
   "outputs": [],
   "source": [
    "### Now lets compute the annualised market portfolio using the sophisticated method\n",
    "annual_market_expected_return = (1+daily_market_return)**250-1"
   ]
  },
  {
   "cell_type": "code",
   "execution_count": 46,
   "id": "f29c4ca2",
   "metadata": {},
   "outputs": [
    {
     "data": {
      "text/plain": [
       "0.13854129369128"
      ]
     },
     "execution_count": 46,
     "metadata": {},
     "output_type": "execute_result"
    }
   ],
   "source": [
    "annual_market_expected_return"
   ]
  },
  {
   "cell_type": "code",
   "execution_count": 23,
   "id": "7d5011ad",
   "metadata": {},
   "outputs": [],
   "source": [
    "## Compute the daily market standard deviation.\n",
    "daily_sd_market= np.sqrt(np.var(market_returns['returns'],ddof=1))"
   ]
  },
  {
   "cell_type": "code",
   "execution_count": 24,
   "id": "c59cc347",
   "metadata": {},
   "outputs": [
    {
     "data": {
      "text/plain": [
       "0.007576893043007455"
      ]
     },
     "execution_count": 24,
     "metadata": {},
     "output_type": "execute_result"
    }
   ],
   "source": [
    "daily_sd_market"
   ]
  },
  {
   "cell_type": "code",
   "execution_count": 47,
   "id": "1aa10254",
   "metadata": {},
   "outputs": [
    {
     "name": "stdout",
     "output_type": "stream",
     "text": [
      "0.11980119801693842\n"
     ]
    }
   ],
   "source": [
    "annualised_market_sd= daily_sd_market*np.sqrt(250)\n",
    "print(annualised_market_sd)"
   ]
  },
  {
   "cell_type": "markdown",
   "id": "2ba8e2fc",
   "metadata": {},
   "source": [
    "## Part 2\n",
    "1. Optimise the portfolio weights so that the expected return is equal to the annualised return on the market portfolio.i.e \n",
    "                                          i.e E(R)-Target return=0\n",
    "2. Optimise the portfolio weights so that the risk of the chosen stocks portfolio is equal to the annualised risk of the market portfolio.\n",
    "3. Optimise the portfolio weights so that the risk of the portfolio is minimised.\n",
    "4. Insights and recommendations"
   ]
  },
  {
   "cell_type": "markdown",
   "id": "c4f1a50f",
   "metadata": {},
   "source": [
    "## Optimise the portfolio weights so that the expected return is equal to the annualised return on the market portfolio.i.e \n",
    "   Objective function:  E(R)= Target return(Market portfolio)\n",
    "   Constraints:  \n",
    "   1. The sum of the weights must be equal to 1. np.sum(weights)-1 = 0\n",
    "   2. The difference between the expected return and the market return = 0 . i.e E(R)-Target return=0\n",
    "   Bounds:\n",
    "   1. The weights should between 0 and 1.\n"
   ]
  },
  {
   "cell_type": "code",
   "execution_count": 26,
   "id": "15d7e4a8",
   "metadata": {},
   "outputs": [],
   "source": [
    "target_return = annual_market_expected_return   # set the target return\n",
    "target_risk = annualised_market_sd  # set the target risk"
   ]
  },
  {
   "cell_type": "code",
   "execution_count": 27,
   "id": "43017638",
   "metadata": {},
   "outputs": [
    {
     "data": {
      "text/plain": [
       "0.13854129369128"
      ]
     },
     "execution_count": 27,
     "metadata": {},
     "output_type": "execute_result"
    }
   ],
   "source": [
    "target_return"
   ]
  },
  {
   "cell_type": "code",
   "execution_count": 28,
   "id": "ba5f147c",
   "metadata": {},
   "outputs": [],
   "source": [
    "### Create a function to calcualate the portfolio risk\n",
    "def getPortReturn(init_weights):\n",
    "    # Now lets calculate the return on each stock\n",
    "    returns_df = data.pct_change(1).dropna()\n",
    "    ### Lets compute the portfolio annual expected return using sophisticated method\n",
    "    port_annual_expected_return = (1+ np.dot(np.transpose(init_weights),returns_df.mean()))**250-1\n",
    "    return port_annual_expected_return"
   ]
  },
  {
   "cell_type": "code",
   "execution_count": 29,
   "id": "0786cbf0",
   "metadata": {},
   "outputs": [],
   "source": [
    " returns_df = data.pct_change(1).dropna()"
   ]
  },
  {
   "cell_type": "code",
   "execution_count": 30,
   "id": "c1fd6082",
   "metadata": {},
   "outputs": [],
   "source": [
    "## We need create a bound that the weights should be between 0 and 1\n",
    "bounds = tuple((0,1) for i in range(num_stocks))"
   ]
  },
  {
   "cell_type": "code",
   "execution_count": 31,
   "id": "aa4595d2",
   "metadata": {},
   "outputs": [],
   "source": [
    "## Lets now include other constraints that weights show sum to 1\n",
    "cons = ({'type':'eq','fun':lambda x:np.sum(x)-1},\n",
    "        {'type':'eq','fun':lambda x: ((1+ np.dot(np.transpose(x),returns_df.mean()))**250-1) -target_return })"
   ]
  },
  {
   "cell_type": "code",
   "execution_count": 32,
   "id": "8d8a6428",
   "metadata": {},
   "outputs": [],
   "source": [
    "# calculate the weights for each dataframe: assume equal weightings\n",
    "num_stocks = len(data.columns)\n",
    "init_weights = [1/num_stocks]*num_stocks"
   ]
  },
  {
   "cell_type": "code",
   "execution_count": 33,
   "id": "93b8252b",
   "metadata": {},
   "outputs": [
    {
     "data": {
      "text/plain": [
       "0.20968977159275792"
      ]
     },
     "execution_count": 33,
     "metadata": {},
     "output_type": "execute_result"
    }
   ],
   "source": [
    "getPortReturn(init_weights)"
   ]
  },
  {
   "cell_type": "code",
   "execution_count": 34,
   "id": "48d7515f",
   "metadata": {},
   "outputs": [],
   "source": [
    "### Lets call the minimize method:\n",
    "results = minimize(fun=getPortReturn,x0=init_weights,bounds=bounds,constraints=cons)"
   ]
  },
  {
   "cell_type": "code",
   "execution_count": 35,
   "id": "18290120",
   "metadata": {},
   "outputs": [
    {
     "data": {
      "text/plain": [
       " message: Optimization terminated successfully\n",
       " success: True\n",
       "  status: 0\n",
       "     fun: 0.1385412936919117\n",
       "       x: [ 1.086e-01  1.360e-01  1.172e-01  9.634e-02  1.095e-01\n",
       "            1.140e-01  7.106e-02  2.120e-02  1.378e-01  8.831e-02]\n",
       "     nit: 4\n",
       "     jac: [ 1.608e-01 -1.825e-02  1.044e-01  2.406e-01  1.546e-01\n",
       "            1.252e-01  4.056e-01  7.309e-01 -2.988e-02  2.930e-01]\n",
       "    nfev: 44\n",
       "    njev: 4"
      ]
     },
     "execution_count": 35,
     "metadata": {},
     "output_type": "execute_result"
    }
   ],
   "source": [
    "results"
   ]
  },
  {
   "cell_type": "code",
   "execution_count": 36,
   "id": "00bfebfc",
   "metadata": {},
   "outputs": [
    {
     "data": {
      "text/plain": [
       "array([0.10856363, 0.13600517, 0.11720411, 0.09634054, 0.10951077,\n",
       "       0.11401647, 0.07105962, 0.02120388, 0.13778705, 0.08830875])"
      ]
     },
     "execution_count": 36,
     "metadata": {},
     "output_type": "execute_result"
    }
   ],
   "source": [
    "# Lets display the weights to minimize the portfolio return\n",
    "results['x']"
   ]
  },
  {
   "cell_type": "code",
   "execution_count": 37,
   "id": "4afff4b1",
   "metadata": {},
   "outputs": [
    {
     "data": {
      "text/plain": [
       "0.1385412936919117"
      ]
     },
     "execution_count": 37,
     "metadata": {},
     "output_type": "execute_result"
    }
   ],
   "source": [
    "# Lets confirm the target expected return\n",
    "getPortReturn(results['x'])"
   ]
  },
  {
   "cell_type": "code",
   "execution_count": 38,
   "id": "ffc00ab0",
   "metadata": {},
   "outputs": [
    {
     "data": {
      "text/plain": [
       "0.16092290186068836"
      ]
     },
     "execution_count": 38,
     "metadata": {},
     "output_type": "execute_result"
    }
   ],
   "source": [
    "## Lets now calculate the new portfolio risk using the optimal weight\n",
    "getPortRisk(results['x'])"
   ]
  },
  {
   "cell_type": "code",
   "execution_count": 39,
   "id": "bd087bad",
   "metadata": {},
   "outputs": [
    {
     "data": {
      "text/plain": [
       "0.11980119801693842"
      ]
     },
     "execution_count": 39,
     "metadata": {},
     "output_type": "execute_result"
    }
   ],
   "source": [
    "target_risk"
   ]
  },
  {
   "cell_type": "code",
   "execution_count": 48,
   "id": "1d4e089a",
   "metadata": {},
   "outputs": [],
   "source": [
    "# Lets create a data frame for weights that optimise the portfolio return\n",
    "optimised_weights = pd.DataFrame(results['x'])"
   ]
  },
  {
   "cell_type": "code",
   "execution_count": 49,
   "id": "f7fc1f14",
   "metadata": {},
   "outputs": [
    {
     "data": {
      "text/html": [
       "<div>\n",
       "<style scoped>\n",
       "    .dataframe tbody tr th:only-of-type {\n",
       "        vertical-align: middle;\n",
       "    }\n",
       "\n",
       "    .dataframe tbody tr th {\n",
       "        vertical-align: top;\n",
       "    }\n",
       "\n",
       "    .dataframe thead th {\n",
       "        text-align: right;\n",
       "    }\n",
       "</style>\n",
       "<table border=\"1\" class=\"dataframe\">\n",
       "  <thead>\n",
       "    <tr style=\"text-align: right;\">\n",
       "      <th></th>\n",
       "      <th>0</th>\n",
       "    </tr>\n",
       "  </thead>\n",
       "  <tbody>\n",
       "    <tr>\n",
       "      <th>0</th>\n",
       "      <td>0.108564</td>\n",
       "    </tr>\n",
       "    <tr>\n",
       "      <th>1</th>\n",
       "      <td>0.136005</td>\n",
       "    </tr>\n",
       "    <tr>\n",
       "      <th>2</th>\n",
       "      <td>0.117204</td>\n",
       "    </tr>\n",
       "    <tr>\n",
       "      <th>3</th>\n",
       "      <td>0.096341</td>\n",
       "    </tr>\n",
       "    <tr>\n",
       "      <th>4</th>\n",
       "      <td>0.109511</td>\n",
       "    </tr>\n",
       "    <tr>\n",
       "      <th>5</th>\n",
       "      <td>0.114016</td>\n",
       "    </tr>\n",
       "    <tr>\n",
       "      <th>6</th>\n",
       "      <td>0.071060</td>\n",
       "    </tr>\n",
       "    <tr>\n",
       "      <th>7</th>\n",
       "      <td>0.021204</td>\n",
       "    </tr>\n",
       "    <tr>\n",
       "      <th>8</th>\n",
       "      <td>0.137787</td>\n",
       "    </tr>\n",
       "    <tr>\n",
       "      <th>9</th>\n",
       "      <td>0.088309</td>\n",
       "    </tr>\n",
       "  </tbody>\n",
       "</table>\n",
       "</div>"
      ],
      "text/plain": [
       "          0\n",
       "0  0.108564\n",
       "1  0.136005\n",
       "2  0.117204\n",
       "3  0.096341\n",
       "4  0.109511\n",
       "5  0.114016\n",
       "6  0.071060\n",
       "7  0.021204\n",
       "8  0.137787\n",
       "9  0.088309"
      ]
     },
     "execution_count": 49,
     "metadata": {},
     "output_type": "execute_result"
    }
   ],
   "source": [
    "optimised_weights"
   ]
  },
  {
   "cell_type": "code",
   "execution_count": 50,
   "id": "7767b9d0",
   "metadata": {},
   "outputs": [],
   "source": [
    "##Lets change thier index\n",
    "optimised_weights.index= data.columns\n",
    "optimised_weights.rename(columns={optimised_weights.columns[0]:'weights'},inplace=True)"
   ]
  },
  {
   "cell_type": "code",
   "execution_count": 51,
   "id": "e63e6e05",
   "metadata": {},
   "outputs": [
    {
     "data": {
      "text/html": [
       "<div>\n",
       "<style scoped>\n",
       "    .dataframe tbody tr th:only-of-type {\n",
       "        vertical-align: middle;\n",
       "    }\n",
       "\n",
       "    .dataframe tbody tr th {\n",
       "        vertical-align: top;\n",
       "    }\n",
       "\n",
       "    .dataframe thead th {\n",
       "        text-align: right;\n",
       "    }\n",
       "</style>\n",
       "<table border=\"1\" class=\"dataframe\">\n",
       "  <thead>\n",
       "    <tr style=\"text-align: right;\">\n",
       "      <th></th>\n",
       "      <th>weights</th>\n",
       "    </tr>\n",
       "  </thead>\n",
       "  <tbody>\n",
       "    <tr>\n",
       "      <th>SPY</th>\n",
       "      <td>0.108564</td>\n",
       "    </tr>\n",
       "    <tr>\n",
       "      <th>BND</th>\n",
       "      <td>0.136005</td>\n",
       "    </tr>\n",
       "    <tr>\n",
       "      <th>GLD</th>\n",
       "      <td>0.117204</td>\n",
       "    </tr>\n",
       "    <tr>\n",
       "      <th>NFLX</th>\n",
       "      <td>0.096341</td>\n",
       "    </tr>\n",
       "    <tr>\n",
       "      <th>VTI</th>\n",
       "      <td>0.109511</td>\n",
       "    </tr>\n",
       "    <tr>\n",
       "      <th>IBM</th>\n",
       "      <td>0.114016</td>\n",
       "    </tr>\n",
       "    <tr>\n",
       "      <th>AAPL</th>\n",
       "      <td>0.071060</td>\n",
       "    </tr>\n",
       "    <tr>\n",
       "      <th>TSLA</th>\n",
       "      <td>0.021204</td>\n",
       "    </tr>\n",
       "    <tr>\n",
       "      <th>VZ</th>\n",
       "      <td>0.137787</td>\n",
       "    </tr>\n",
       "    <tr>\n",
       "      <th>GE</th>\n",
       "      <td>0.088309</td>\n",
       "    </tr>\n",
       "  </tbody>\n",
       "</table>\n",
       "</div>"
      ],
      "text/plain": [
       "       weights\n",
       "SPY   0.108564\n",
       "BND   0.136005\n",
       "GLD   0.117204\n",
       "NFLX  0.096341\n",
       "VTI   0.109511\n",
       "IBM   0.114016\n",
       "AAPL  0.071060\n",
       "TSLA  0.021204\n",
       "VZ    0.137787\n",
       "GE    0.088309"
      ]
     },
     "execution_count": 51,
     "metadata": {},
     "output_type": "execute_result"
    }
   ],
   "source": [
    "optimised_weights"
   ]
  },
  {
   "cell_type": "code",
   "execution_count": 52,
   "id": "726a5039",
   "metadata": {},
   "outputs": [],
   "source": [
    "### For readability lets change the rounding\n",
    "optimised_weights['weights_rounded'] = round(optimised_weights['weights'],3)"
   ]
  },
  {
   "cell_type": "code",
   "execution_count": 53,
   "id": "e5eec2f2",
   "metadata": {},
   "outputs": [
    {
     "data": {
      "text/html": [
       "<div>\n",
       "<style scoped>\n",
       "    .dataframe tbody tr th:only-of-type {\n",
       "        vertical-align: middle;\n",
       "    }\n",
       "\n",
       "    .dataframe tbody tr th {\n",
       "        vertical-align: top;\n",
       "    }\n",
       "\n",
       "    .dataframe thead th {\n",
       "        text-align: right;\n",
       "    }\n",
       "</style>\n",
       "<table border=\"1\" class=\"dataframe\">\n",
       "  <thead>\n",
       "    <tr style=\"text-align: right;\">\n",
       "      <th></th>\n",
       "      <th>weights</th>\n",
       "      <th>weights_rounded</th>\n",
       "    </tr>\n",
       "  </thead>\n",
       "  <tbody>\n",
       "    <tr>\n",
       "      <th>SPY</th>\n",
       "      <td>0.108564</td>\n",
       "      <td>0.109</td>\n",
       "    </tr>\n",
       "    <tr>\n",
       "      <th>BND</th>\n",
       "      <td>0.136005</td>\n",
       "      <td>0.136</td>\n",
       "    </tr>\n",
       "    <tr>\n",
       "      <th>GLD</th>\n",
       "      <td>0.117204</td>\n",
       "      <td>0.117</td>\n",
       "    </tr>\n",
       "    <tr>\n",
       "      <th>NFLX</th>\n",
       "      <td>0.096341</td>\n",
       "      <td>0.096</td>\n",
       "    </tr>\n",
       "    <tr>\n",
       "      <th>VTI</th>\n",
       "      <td>0.109511</td>\n",
       "      <td>0.110</td>\n",
       "    </tr>\n",
       "    <tr>\n",
       "      <th>IBM</th>\n",
       "      <td>0.114016</td>\n",
       "      <td>0.114</td>\n",
       "    </tr>\n",
       "    <tr>\n",
       "      <th>AAPL</th>\n",
       "      <td>0.071060</td>\n",
       "      <td>0.071</td>\n",
       "    </tr>\n",
       "    <tr>\n",
       "      <th>TSLA</th>\n",
       "      <td>0.021204</td>\n",
       "      <td>0.021</td>\n",
       "    </tr>\n",
       "    <tr>\n",
       "      <th>VZ</th>\n",
       "      <td>0.137787</td>\n",
       "      <td>0.138</td>\n",
       "    </tr>\n",
       "    <tr>\n",
       "      <th>GE</th>\n",
       "      <td>0.088309</td>\n",
       "      <td>0.088</td>\n",
       "    </tr>\n",
       "  </tbody>\n",
       "</table>\n",
       "</div>"
      ],
      "text/plain": [
       "       weights  weights_rounded\n",
       "SPY   0.108564            0.109\n",
       "BND   0.136005            0.136\n",
       "GLD   0.117204            0.117\n",
       "NFLX  0.096341            0.096\n",
       "VTI   0.109511            0.110\n",
       "IBM   0.114016            0.114\n",
       "AAPL  0.071060            0.071\n",
       "TSLA  0.021204            0.021\n",
       "VZ    0.137787            0.138\n",
       "GE    0.088309            0.088"
      ]
     },
     "execution_count": 53,
     "metadata": {},
     "output_type": "execute_result"
    }
   ],
   "source": [
    "optimised_weights"
   ]
  },
  {
   "cell_type": "code",
   "execution_count": 54,
   "id": "580e97d9",
   "metadata": {},
   "outputs": [
    {
     "data": {
      "text/plain": [
       "VZ      0.138\n",
       "BND     0.136\n",
       "GLD     0.117\n",
       "IBM     0.114\n",
       "VTI     0.110\n",
       "SPY     0.109\n",
       "NFLX    0.096\n",
       "GE      0.088\n",
       "AAPL    0.071\n",
       "TSLA    0.021\n",
       "Name: weights_rounded, dtype: float64"
      ]
     },
     "execution_count": 54,
     "metadata": {},
     "output_type": "execute_result"
    }
   ],
   "source": [
    "## Lets sort the rounded values in ascending order\n",
    "optimised_weights['weights_rounded'].sort_values(ascending=False)"
   ]
  },
  {
   "cell_type": "code",
   "execution_count": 55,
   "id": "9c1e949d",
   "metadata": {},
   "outputs": [
    {
     "data": {
      "text/plain": [
       "VZ      0.138\n",
       "BND     0.274\n",
       "GLD     0.391\n",
       "IBM     0.505\n",
       "VTI     0.615\n",
       "SPY     0.724\n",
       "NFLX    0.820\n",
       "GE      0.908\n",
       "AAPL    0.979\n",
       "TSLA    1.000\n",
       "Name: weights_rounded, dtype: float64"
      ]
     },
     "execution_count": 55,
     "metadata": {},
     "output_type": "execute_result"
    }
   ],
   "source": [
    "## Lets sort the rounded values in ascending order\n",
    "optimised_weights['weights_rounded'].sort_values(ascending=False).cumsum()"
   ]
  },
  {
   "cell_type": "markdown",
   "id": "d3ec7ec4",
   "metadata": {},
   "source": [
    "## 2. Optimise the portfolio weights so that the risk of the chosen stocks portfolio is equal to the annualised risk of the market portfolio.\n",
    " Objective function:  Stock expected risk = Target risk(Market portfolio)\n",
    " Constraints:  \n",
    "   1. The sum of the weights must be equal to 1. np.sum(weights)-1 = 0\n",
    "   2. The difference between the expected risk portfolio and the market portfolio risk = 0 \n",
    "   Bounds:\n",
    "   1. The weights should between 0 and 1.\n"
   ]
  },
  {
   "cell_type": "code",
   "execution_count": 57,
   "id": "79095f08",
   "metadata": {},
   "outputs": [],
   "source": [
    "# Lets set the target risk\n",
    "target_risk = annualised_market_sd "
   ]
  },
  {
   "cell_type": "code",
   "execution_count": 58,
   "id": "4f2de0f6",
   "metadata": {},
   "outputs": [
    {
     "data": {
      "text/plain": [
       "0.11980119801693842"
      ]
     },
     "execution_count": 58,
     "metadata": {},
     "output_type": "execute_result"
    }
   ],
   "source": [
    "target_risk "
   ]
  },
  {
   "cell_type": "code",
   "execution_count": 59,
   "id": "bb0cc527",
   "metadata": {},
   "outputs": [],
   "source": [
    "### Create a function to calcualate the portfolio risk\n",
    "def getPortRisk2(init_weights):\n",
    "    # Now lets calculate the return on each stock\n",
    "    returns_df = data.pct_change(1).dropna()\n",
    "    # now lets compute the daily portfolio standard deviation\n",
    "    annual_sd_p = (np.sqrt(np.dot(np.transpose(init_weights),np.dot(returns_df.cov(),init_weights))))*np.sqrt(250)\n",
    "    \n",
    "    return annual_sd_p"
   ]
  },
  {
   "cell_type": "code",
   "execution_count": 60,
   "id": "972b471a",
   "metadata": {},
   "outputs": [
    {
     "data": {
      "text/plain": [
       "0.19248567484945814"
      ]
     },
     "execution_count": 60,
     "metadata": {},
     "output_type": "execute_result"
    }
   ],
   "source": [
    "getPortRisk2(init_weights)"
   ]
  },
  {
   "cell_type": "code",
   "execution_count": 61,
   "id": "9d1ec388",
   "metadata": {},
   "outputs": [],
   "source": [
    "### Lets set the constraints for the risk portfolio\n",
    "## Lets now include other constraints that weights show sum to 1\n",
    "cons1 = ({'type':'eq','fun':lambda x:np.sum(x)-1},\n",
    "         {'type':'eq','fun':lambda x: (np.sqrt(np.dot(np.transpose(x),np.dot(returns_df.cov(),x))))\n",
    "          *np.sqrt(250)- target_risk })"
   ]
  },
  {
   "cell_type": "code",
   "execution_count": 62,
   "id": "541a856e",
   "metadata": {},
   "outputs": [],
   "source": [
    "### Lets call the minimize method:\n",
    "results_risk = minimize(fun=getPortRisk2,x0=init_weights,bounds=bounds,constraints=cons1)"
   ]
  },
  {
   "cell_type": "code",
   "execution_count": 63,
   "id": "9c4ddbbd",
   "metadata": {},
   "outputs": [
    {
     "data": {
      "text/plain": [
       " message: Optimization terminated successfully\n",
       " success: True\n",
       "  status: 0\n",
       "     fun: 0.11980119805974626\n",
       "       x: [ 9.118e-02  2.255e-01  2.121e-01  2.519e-02  8.743e-02\n",
       "            1.101e-01  4.574e-02  0.000e+00  1.624e-01  4.028e-02]\n",
       "     nit: 5\n",
       "     jac: [ 1.832e-01  2.476e-02  6.108e-02  2.023e-01  1.864e-01\n",
       "            1.928e-01  2.212e-01  2.423e-01  1.363e-01  2.402e-01]\n",
       "    nfev: 55\n",
       "    njev: 5"
      ]
     },
     "execution_count": 63,
     "metadata": {},
     "output_type": "execute_result"
    }
   ],
   "source": [
    "results_risk"
   ]
  },
  {
   "cell_type": "code",
   "execution_count": 64,
   "id": "74ecc5f2",
   "metadata": {},
   "outputs": [
    {
     "data": {
      "text/plain": [
       "array([0.09117761, 0.22554452, 0.21213337, 0.02519191, 0.08743266,\n",
       "       0.11012546, 0.04573819, 0.        , 0.16237699, 0.04027929])"
      ]
     },
     "execution_count": 64,
     "metadata": {},
     "output_type": "execute_result"
    }
   ],
   "source": [
    "results_risk['x']"
   ]
  },
  {
   "cell_type": "code",
   "execution_count": 65,
   "id": "56a4a625",
   "metadata": {},
   "outputs": [
    {
     "data": {
      "text/plain": [
       "0.08378569498971755"
      ]
     },
     "execution_count": 65,
     "metadata": {},
     "output_type": "execute_result"
    }
   ],
   "source": [
    "## Lets now compute the new expected returns:\n",
    "getPortReturn(results_risk['x'])"
   ]
  },
  {
   "cell_type": "code",
   "execution_count": 66,
   "id": "74543e05",
   "metadata": {},
   "outputs": [],
   "source": [
    "# Lets create a data frame for weights that optimise the portfolio return\n",
    "optimised_weights1 = pd.DataFrame(results_risk['x'])"
   ]
  },
  {
   "cell_type": "code",
   "execution_count": 67,
   "id": "ed92d85e",
   "metadata": {},
   "outputs": [
    {
     "data": {
      "text/html": [
       "<div>\n",
       "<style scoped>\n",
       "    .dataframe tbody tr th:only-of-type {\n",
       "        vertical-align: middle;\n",
       "    }\n",
       "\n",
       "    .dataframe tbody tr th {\n",
       "        vertical-align: top;\n",
       "    }\n",
       "\n",
       "    .dataframe thead th {\n",
       "        text-align: right;\n",
       "    }\n",
       "</style>\n",
       "<table border=\"1\" class=\"dataframe\">\n",
       "  <thead>\n",
       "    <tr style=\"text-align: right;\">\n",
       "      <th></th>\n",
       "      <th>0</th>\n",
       "    </tr>\n",
       "  </thead>\n",
       "  <tbody>\n",
       "    <tr>\n",
       "      <th>0</th>\n",
       "      <td>0.091178</td>\n",
       "    </tr>\n",
       "    <tr>\n",
       "      <th>1</th>\n",
       "      <td>0.225545</td>\n",
       "    </tr>\n",
       "    <tr>\n",
       "      <th>2</th>\n",
       "      <td>0.212133</td>\n",
       "    </tr>\n",
       "    <tr>\n",
       "      <th>3</th>\n",
       "      <td>0.025192</td>\n",
       "    </tr>\n",
       "    <tr>\n",
       "      <th>4</th>\n",
       "      <td>0.087433</td>\n",
       "    </tr>\n",
       "    <tr>\n",
       "      <th>5</th>\n",
       "      <td>0.110125</td>\n",
       "    </tr>\n",
       "    <tr>\n",
       "      <th>6</th>\n",
       "      <td>0.045738</td>\n",
       "    </tr>\n",
       "    <tr>\n",
       "      <th>7</th>\n",
       "      <td>0.000000</td>\n",
       "    </tr>\n",
       "    <tr>\n",
       "      <th>8</th>\n",
       "      <td>0.162377</td>\n",
       "    </tr>\n",
       "    <tr>\n",
       "      <th>9</th>\n",
       "      <td>0.040279</td>\n",
       "    </tr>\n",
       "  </tbody>\n",
       "</table>\n",
       "</div>"
      ],
      "text/plain": [
       "          0\n",
       "0  0.091178\n",
       "1  0.225545\n",
       "2  0.212133\n",
       "3  0.025192\n",
       "4  0.087433\n",
       "5  0.110125\n",
       "6  0.045738\n",
       "7  0.000000\n",
       "8  0.162377\n",
       "9  0.040279"
      ]
     },
     "execution_count": 67,
     "metadata": {},
     "output_type": "execute_result"
    }
   ],
   "source": [
    "optimised_weights1"
   ]
  },
  {
   "cell_type": "code",
   "execution_count": 68,
   "id": "57740047",
   "metadata": {},
   "outputs": [],
   "source": [
    "##Lets change thier index\n",
    "optimised_weights1.index= data.columns\n",
    "optimised_weights1.rename(columns={optimised_weights1.columns[0]:'weights'},inplace=True)"
   ]
  },
  {
   "cell_type": "code",
   "execution_count": 71,
   "id": "866bbe19",
   "metadata": {},
   "outputs": [
    {
     "data": {
      "text/html": [
       "<div>\n",
       "<style scoped>\n",
       "    .dataframe tbody tr th:only-of-type {\n",
       "        vertical-align: middle;\n",
       "    }\n",
       "\n",
       "    .dataframe tbody tr th {\n",
       "        vertical-align: top;\n",
       "    }\n",
       "\n",
       "    .dataframe thead th {\n",
       "        text-align: right;\n",
       "    }\n",
       "</style>\n",
       "<table border=\"1\" class=\"dataframe\">\n",
       "  <thead>\n",
       "    <tr style=\"text-align: right;\">\n",
       "      <th></th>\n",
       "      <th>weights</th>\n",
       "    </tr>\n",
       "  </thead>\n",
       "  <tbody>\n",
       "    <tr>\n",
       "      <th>SPY</th>\n",
       "      <td>0.091</td>\n",
       "    </tr>\n",
       "    <tr>\n",
       "      <th>BND</th>\n",
       "      <td>0.226</td>\n",
       "    </tr>\n",
       "    <tr>\n",
       "      <th>GLD</th>\n",
       "      <td>0.212</td>\n",
       "    </tr>\n",
       "    <tr>\n",
       "      <th>NFLX</th>\n",
       "      <td>0.025</td>\n",
       "    </tr>\n",
       "    <tr>\n",
       "      <th>VTI</th>\n",
       "      <td>0.087</td>\n",
       "    </tr>\n",
       "    <tr>\n",
       "      <th>IBM</th>\n",
       "      <td>0.110</td>\n",
       "    </tr>\n",
       "    <tr>\n",
       "      <th>AAPL</th>\n",
       "      <td>0.046</td>\n",
       "    </tr>\n",
       "    <tr>\n",
       "      <th>TSLA</th>\n",
       "      <td>0.000</td>\n",
       "    </tr>\n",
       "    <tr>\n",
       "      <th>VZ</th>\n",
       "      <td>0.162</td>\n",
       "    </tr>\n",
       "    <tr>\n",
       "      <th>GE</th>\n",
       "      <td>0.040</td>\n",
       "    </tr>\n",
       "  </tbody>\n",
       "</table>\n",
       "</div>"
      ],
      "text/plain": [
       "      weights\n",
       "SPY     0.091\n",
       "BND     0.226\n",
       "GLD     0.212\n",
       "NFLX    0.025\n",
       "VTI     0.087\n",
       "IBM     0.110\n",
       "AAPL    0.046\n",
       "TSLA    0.000\n",
       "VZ      0.162\n",
       "GE      0.040"
      ]
     },
     "execution_count": 71,
     "metadata": {},
     "output_type": "execute_result"
    }
   ],
   "source": [
    "optimised_weights1.round(3)"
   ]
  },
  {
   "cell_type": "code",
   "execution_count": 90,
   "id": "5d58266e",
   "metadata": {},
   "outputs": [
    {
     "data": {
      "text/plain": [
       "BND     0.225545\n",
       "GLD     0.437678\n",
       "VZ      0.600055\n",
       "IBM     0.710180\n",
       "SPY     0.801358\n",
       "VTI     0.888791\n",
       "AAPL    0.934529\n",
       "GE      0.974808\n",
       "NFLX    1.000000\n",
       "TSLA    1.000000\n",
       "Name: weights, dtype: float64"
      ]
     },
     "execution_count": 90,
     "metadata": {},
     "output_type": "execute_result"
    }
   ],
   "source": [
    "optimised_weights1['weights'].sort_values(ascending=False).cumsum()"
   ]
  },
  {
   "cell_type": "code",
   "execution_count": 73,
   "id": "fb94b8e1",
   "metadata": {},
   "outputs": [
    {
     "data": {
      "text/html": [
       "<div>\n",
       "<style scoped>\n",
       "    .dataframe tbody tr th:only-of-type {\n",
       "        vertical-align: middle;\n",
       "    }\n",
       "\n",
       "    .dataframe tbody tr th {\n",
       "        vertical-align: top;\n",
       "    }\n",
       "\n",
       "    .dataframe thead th {\n",
       "        text-align: right;\n",
       "    }\n",
       "</style>\n",
       "<table border=\"1\" class=\"dataframe\">\n",
       "  <thead>\n",
       "    <tr style=\"text-align: right;\">\n",
       "      <th></th>\n",
       "      <th>SPY</th>\n",
       "      <th>BND</th>\n",
       "      <th>GLD</th>\n",
       "      <th>NFLX</th>\n",
       "      <th>VTI</th>\n",
       "      <th>IBM</th>\n",
       "      <th>AAPL</th>\n",
       "      <th>TSLA</th>\n",
       "      <th>VZ</th>\n",
       "      <th>GE</th>\n",
       "    </tr>\n",
       "    <tr>\n",
       "      <th>Date</th>\n",
       "      <th></th>\n",
       "      <th></th>\n",
       "      <th></th>\n",
       "      <th></th>\n",
       "      <th></th>\n",
       "      <th></th>\n",
       "      <th></th>\n",
       "      <th></th>\n",
       "      <th></th>\n",
       "      <th></th>\n",
       "    </tr>\n",
       "  </thead>\n",
       "  <tbody>\n",
       "    <tr>\n",
       "      <th>2019/01/31 00:00</th>\n",
       "      <td>0.008782</td>\n",
       "      <td>0.004641</td>\n",
       "      <td>0.000481</td>\n",
       "      <td>-0.003405</td>\n",
       "      <td>0.008811</td>\n",
       "      <td>0.000298</td>\n",
       "      <td>0.007201</td>\n",
       "      <td>-0.005668</td>\n",
       "      <td>0.019630</td>\n",
       "      <td>0.116484</td>\n",
       "    </tr>\n",
       "    <tr>\n",
       "      <th>2019/02/01 00:00</th>\n",
       "      <td>0.000482</td>\n",
       "      <td>-0.005244</td>\n",
       "      <td>-0.002004</td>\n",
       "      <td>0.001031</td>\n",
       "      <td>0.001444</td>\n",
       "      <td>-0.002381</td>\n",
       "      <td>0.000481</td>\n",
       "      <td>0.016904</td>\n",
       "      <td>-0.009263</td>\n",
       "      <td>0.002953</td>\n",
       "    </tr>\n",
       "    <tr>\n",
       "      <th>2019/02/04 00:00</th>\n",
       "      <td>0.007035</td>\n",
       "      <td>-0.000879</td>\n",
       "      <td>-0.004337</td>\n",
       "      <td>0.033809</td>\n",
       "      <td>0.007136</td>\n",
       "      <td>0.008128</td>\n",
       "      <td>0.028405</td>\n",
       "      <td>0.002178</td>\n",
       "      <td>-0.009349</td>\n",
       "      <td>0.001963</td>\n",
       "    </tr>\n",
       "    <tr>\n",
       "      <th>2019/02/05 00:00</th>\n",
       "      <td>0.004192</td>\n",
       "      <td>0.002136</td>\n",
       "      <td>0.002581</td>\n",
       "      <td>0.012723</td>\n",
       "      <td>0.004151</td>\n",
       "      <td>0.002663</td>\n",
       "      <td>0.017109</td>\n",
       "      <td>0.027038</td>\n",
       "      <td>0.001850</td>\n",
       "      <td>0.041136</td>\n",
       "    </tr>\n",
       "    <tr>\n",
       "      <th>2019/02/06 00:00</th>\n",
       "      <td>-0.001318</td>\n",
       "      <td>-0.000376</td>\n",
       "      <td>-0.006759</td>\n",
       "      <td>-0.010174</td>\n",
       "      <td>-0.000998</td>\n",
       "      <td>0.005680</td>\n",
       "      <td>0.000345</td>\n",
       "      <td>-0.012852</td>\n",
       "      <td>-0.006465</td>\n",
       "      <td>-0.015052</td>\n",
       "    </tr>\n",
       "  </tbody>\n",
       "</table>\n",
       "</div>"
      ],
      "text/plain": [
       "                       SPY       BND       GLD      NFLX       VTI       IBM  \\\n",
       "Date                                                                           \n",
       "2019/01/31 00:00  0.008782  0.004641  0.000481 -0.003405  0.008811  0.000298   \n",
       "2019/02/01 00:00  0.000482 -0.005244 -0.002004  0.001031  0.001444 -0.002381   \n",
       "2019/02/04 00:00  0.007035 -0.000879 -0.004337  0.033809  0.007136  0.008128   \n",
       "2019/02/05 00:00  0.004192  0.002136  0.002581  0.012723  0.004151  0.002663   \n",
       "2019/02/06 00:00 -0.001318 -0.000376 -0.006759 -0.010174 -0.000998  0.005680   \n",
       "\n",
       "                      AAPL      TSLA        VZ        GE  \n",
       "Date                                                      \n",
       "2019/01/31 00:00  0.007201 -0.005668  0.019630  0.116484  \n",
       "2019/02/01 00:00  0.000481  0.016904 -0.009263  0.002953  \n",
       "2019/02/04 00:00  0.028405  0.002178 -0.009349  0.001963  \n",
       "2019/02/05 00:00  0.017109  0.027038  0.001850  0.041136  \n",
       "2019/02/06 00:00  0.000345 -0.012852 -0.006465 -0.015052  "
      ]
     },
     "execution_count": 73,
     "metadata": {},
     "output_type": "execute_result"
    }
   ],
   "source": [
    "returns_df.head()"
   ]
  },
  {
   "cell_type": "code",
   "execution_count": 76,
   "id": "e1ff4520",
   "metadata": {},
   "outputs": [],
   "source": [
    "# Lets compute the individual daily standard deviation:\n",
    "sd_annual = (returns_df.std())*np.sqrt(250)"
   ]
  },
  {
   "cell_type": "code",
   "execution_count": 77,
   "id": "db3d9fb3",
   "metadata": {},
   "outputs": [
    {
     "data": {
      "text/plain": [
       "SPY     0.208948\n",
       "BND     0.067841\n",
       "GLD     0.148854\n",
       "NFLX    0.458298\n",
       "VTI     0.213886\n",
       "IBM     0.263447\n",
       "AAPL    0.316323\n",
       "TSLA    0.643349\n",
       "VZ      0.209404\n",
       "GE      0.407912\n",
       "dtype: float64"
      ]
     },
     "execution_count": 77,
     "metadata": {},
     "output_type": "execute_result"
    }
   ],
   "source": [
    "sd_annual"
   ]
  },
  {
   "cell_type": "code",
   "execution_count": 78,
   "id": "73927b2a",
   "metadata": {},
   "outputs": [],
   "source": [
    "sd_annual_df = pd.DataFrame(sd_annual)"
   ]
  },
  {
   "cell_type": "code",
   "execution_count": 79,
   "id": "bbebea6b",
   "metadata": {},
   "outputs": [
    {
     "data": {
      "text/html": [
       "<div>\n",
       "<style scoped>\n",
       "    .dataframe tbody tr th:only-of-type {\n",
       "        vertical-align: middle;\n",
       "    }\n",
       "\n",
       "    .dataframe tbody tr th {\n",
       "        vertical-align: top;\n",
       "    }\n",
       "\n",
       "    .dataframe thead th {\n",
       "        text-align: right;\n",
       "    }\n",
       "</style>\n",
       "<table border=\"1\" class=\"dataframe\">\n",
       "  <thead>\n",
       "    <tr style=\"text-align: right;\">\n",
       "      <th></th>\n",
       "      <th>0</th>\n",
       "    </tr>\n",
       "  </thead>\n",
       "  <tbody>\n",
       "    <tr>\n",
       "      <th>SPY</th>\n",
       "      <td>0.208948</td>\n",
       "    </tr>\n",
       "    <tr>\n",
       "      <th>BND</th>\n",
       "      <td>0.067841</td>\n",
       "    </tr>\n",
       "    <tr>\n",
       "      <th>GLD</th>\n",
       "      <td>0.148854</td>\n",
       "    </tr>\n",
       "    <tr>\n",
       "      <th>NFLX</th>\n",
       "      <td>0.458298</td>\n",
       "    </tr>\n",
       "    <tr>\n",
       "      <th>VTI</th>\n",
       "      <td>0.213886</td>\n",
       "    </tr>\n",
       "  </tbody>\n",
       "</table>\n",
       "</div>"
      ],
      "text/plain": [
       "             0\n",
       "SPY   0.208948\n",
       "BND   0.067841\n",
       "GLD   0.148854\n",
       "NFLX  0.458298\n",
       "VTI   0.213886"
      ]
     },
     "execution_count": 79,
     "metadata": {},
     "output_type": "execute_result"
    }
   ],
   "source": [
    "sd_annual_df.head()"
   ]
  },
  {
   "cell_type": "code",
   "execution_count": 80,
   "id": "49710fdf",
   "metadata": {},
   "outputs": [],
   "source": [
    "sd_annual_df.rename(columns={sd_annual_df.columns[0]:'individual risk'},inplace=True)"
   ]
  },
  {
   "cell_type": "code",
   "execution_count": 81,
   "id": "ef463ef5",
   "metadata": {},
   "outputs": [
    {
     "data": {
      "text/html": [
       "<div>\n",
       "<style scoped>\n",
       "    .dataframe tbody tr th:only-of-type {\n",
       "        vertical-align: middle;\n",
       "    }\n",
       "\n",
       "    .dataframe tbody tr th {\n",
       "        vertical-align: top;\n",
       "    }\n",
       "\n",
       "    .dataframe thead th {\n",
       "        text-align: right;\n",
       "    }\n",
       "</style>\n",
       "<table border=\"1\" class=\"dataframe\">\n",
       "  <thead>\n",
       "    <tr style=\"text-align: right;\">\n",
       "      <th></th>\n",
       "      <th>individual risk</th>\n",
       "    </tr>\n",
       "  </thead>\n",
       "  <tbody>\n",
       "    <tr>\n",
       "      <th>SPY</th>\n",
       "      <td>0.208948</td>\n",
       "    </tr>\n",
       "    <tr>\n",
       "      <th>BND</th>\n",
       "      <td>0.067841</td>\n",
       "    </tr>\n",
       "    <tr>\n",
       "      <th>GLD</th>\n",
       "      <td>0.148854</td>\n",
       "    </tr>\n",
       "    <tr>\n",
       "      <th>NFLX</th>\n",
       "      <td>0.458298</td>\n",
       "    </tr>\n",
       "    <tr>\n",
       "      <th>VTI</th>\n",
       "      <td>0.213886</td>\n",
       "    </tr>\n",
       "    <tr>\n",
       "      <th>IBM</th>\n",
       "      <td>0.263447</td>\n",
       "    </tr>\n",
       "    <tr>\n",
       "      <th>AAPL</th>\n",
       "      <td>0.316323</td>\n",
       "    </tr>\n",
       "    <tr>\n",
       "      <th>TSLA</th>\n",
       "      <td>0.643349</td>\n",
       "    </tr>\n",
       "    <tr>\n",
       "      <th>VZ</th>\n",
       "      <td>0.209404</td>\n",
       "    </tr>\n",
       "    <tr>\n",
       "      <th>GE</th>\n",
       "      <td>0.407912</td>\n",
       "    </tr>\n",
       "  </tbody>\n",
       "</table>\n",
       "</div>"
      ],
      "text/plain": [
       "      individual risk\n",
       "SPY          0.208948\n",
       "BND          0.067841\n",
       "GLD          0.148854\n",
       "NFLX         0.458298\n",
       "VTI          0.213886\n",
       "IBM          0.263447\n",
       "AAPL         0.316323\n",
       "TSLA         0.643349\n",
       "VZ           0.209404\n",
       "GE           0.407912"
      ]
     },
     "execution_count": 81,
     "metadata": {},
     "output_type": "execute_result"
    }
   ],
   "source": [
    "sd_annual_df"
   ]
  },
  {
   "cell_type": "code",
   "execution_count": 82,
   "id": "18a569b8",
   "metadata": {},
   "outputs": [
    {
     "data": {
      "text/plain": [
       "TSLA    0.643349\n",
       "NFLX    0.458298\n",
       "GE      0.407912\n",
       "AAPL    0.316323\n",
       "IBM     0.263447\n",
       "VTI     0.213886\n",
       "VZ      0.209404\n",
       "SPY     0.208948\n",
       "GLD     0.148854\n",
       "BND     0.067841\n",
       "Name: individual risk, dtype: float64"
      ]
     },
     "execution_count": 82,
     "metadata": {},
     "output_type": "execute_result"
    }
   ],
   "source": [
    "sd_annual_df['individual risk'].sort_values(ascending=False)"
   ]
  },
  {
   "cell_type": "markdown",
   "id": "fe744d3e",
   "metadata": {},
   "source": [
    "### Observation:\n",
    "* TESLA,NFLX,GE,APPL,IBM constitute the highest risk as compared to others.\n",
    "* BND is the risky stock."
   ]
  },
  {
   "cell_type": "code",
   "execution_count": 88,
   "id": "088e5441",
   "metadata": {},
   "outputs": [
    {
     "data": {
      "text/html": [
       "<div>\n",
       "<style scoped>\n",
       "    .dataframe tbody tr th:only-of-type {\n",
       "        vertical-align: middle;\n",
       "    }\n",
       "\n",
       "    .dataframe tbody tr th {\n",
       "        vertical-align: top;\n",
       "    }\n",
       "\n",
       "    .dataframe thead th {\n",
       "        text-align: right;\n",
       "    }\n",
       "</style>\n",
       "<table border=\"1\" class=\"dataframe\">\n",
       "  <thead>\n",
       "    <tr style=\"text-align: right;\">\n",
       "      <th></th>\n",
       "      <th>weights</th>\n",
       "    </tr>\n",
       "  </thead>\n",
       "  <tbody>\n",
       "    <tr>\n",
       "      <th>SPY</th>\n",
       "      <td>0.091</td>\n",
       "    </tr>\n",
       "    <tr>\n",
       "      <th>BND</th>\n",
       "      <td>0.226</td>\n",
       "    </tr>\n",
       "    <tr>\n",
       "      <th>GLD</th>\n",
       "      <td>0.212</td>\n",
       "    </tr>\n",
       "    <tr>\n",
       "      <th>NFLX</th>\n",
       "      <td>0.025</td>\n",
       "    </tr>\n",
       "    <tr>\n",
       "      <th>VTI</th>\n",
       "      <td>0.087</td>\n",
       "    </tr>\n",
       "    <tr>\n",
       "      <th>IBM</th>\n",
       "      <td>0.110</td>\n",
       "    </tr>\n",
       "    <tr>\n",
       "      <th>AAPL</th>\n",
       "      <td>0.046</td>\n",
       "    </tr>\n",
       "    <tr>\n",
       "      <th>TSLA</th>\n",
       "      <td>0.000</td>\n",
       "    </tr>\n",
       "    <tr>\n",
       "      <th>VZ</th>\n",
       "      <td>0.162</td>\n",
       "    </tr>\n",
       "    <tr>\n",
       "      <th>GE</th>\n",
       "      <td>0.040</td>\n",
       "    </tr>\n",
       "  </tbody>\n",
       "</table>\n",
       "</div>"
      ],
      "text/plain": [
       "      weights\n",
       "SPY     0.091\n",
       "BND     0.226\n",
       "GLD     0.212\n",
       "NFLX    0.025\n",
       "VTI     0.087\n",
       "IBM     0.110\n",
       "AAPL    0.046\n",
       "TSLA    0.000\n",
       "VZ      0.162\n",
       "GE      0.040"
      ]
     },
     "execution_count": 88,
     "metadata": {},
     "output_type": "execute_result"
    }
   ],
   "source": [
    "optimised_weights1.round(3)"
   ]
  },
  {
   "cell_type": "code",
   "execution_count": 84,
   "id": "8e11006e",
   "metadata": {},
   "outputs": [],
   "source": [
    "### Lets compute the correlation matrix of the stocks\n",
    "corr_matrix = returns_df.corr()"
   ]
  },
  {
   "cell_type": "code",
   "execution_count": 85,
   "id": "4e856da4",
   "metadata": {},
   "outputs": [
    {
     "data": {
      "text/html": [
       "<div>\n",
       "<style scoped>\n",
       "    .dataframe tbody tr th:only-of-type {\n",
       "        vertical-align: middle;\n",
       "    }\n",
       "\n",
       "    .dataframe tbody tr th {\n",
       "        vertical-align: top;\n",
       "    }\n",
       "\n",
       "    .dataframe thead th {\n",
       "        text-align: right;\n",
       "    }\n",
       "</style>\n",
       "<table border=\"1\" class=\"dataframe\">\n",
       "  <thead>\n",
       "    <tr style=\"text-align: right;\">\n",
       "      <th></th>\n",
       "      <th>SPY</th>\n",
       "      <th>BND</th>\n",
       "      <th>GLD</th>\n",
       "      <th>NFLX</th>\n",
       "      <th>VTI</th>\n",
       "      <th>IBM</th>\n",
       "      <th>AAPL</th>\n",
       "      <th>TSLA</th>\n",
       "      <th>VZ</th>\n",
       "      <th>GE</th>\n",
       "    </tr>\n",
       "  </thead>\n",
       "  <tbody>\n",
       "    <tr>\n",
       "      <th>SPY</th>\n",
       "      <td>1.00</td>\n",
       "      <td>0.18</td>\n",
       "      <td>0.11</td>\n",
       "      <td>0.48</td>\n",
       "      <td>0.99</td>\n",
       "      <td>0.65</td>\n",
       "      <td>0.81</td>\n",
       "      <td>0.49</td>\n",
       "      <td>0.45</td>\n",
       "      <td>0.60</td>\n",
       "    </tr>\n",
       "    <tr>\n",
       "      <th>BND</th>\n",
       "      <td>0.18</td>\n",
       "      <td>1.00</td>\n",
       "      <td>0.37</td>\n",
       "      <td>0.13</td>\n",
       "      <td>0.19</td>\n",
       "      <td>0.07</td>\n",
       "      <td>0.15</td>\n",
       "      <td>0.08</td>\n",
       "      <td>0.11</td>\n",
       "      <td>0.02</td>\n",
       "    </tr>\n",
       "    <tr>\n",
       "      <th>GLD</th>\n",
       "      <td>0.11</td>\n",
       "      <td>0.37</td>\n",
       "      <td>1.00</td>\n",
       "      <td>0.10</td>\n",
       "      <td>0.11</td>\n",
       "      <td>0.08</td>\n",
       "      <td>0.09</td>\n",
       "      <td>0.08</td>\n",
       "      <td>0.09</td>\n",
       "      <td>-0.02</td>\n",
       "    </tr>\n",
       "    <tr>\n",
       "      <th>NFLX</th>\n",
       "      <td>0.48</td>\n",
       "      <td>0.13</td>\n",
       "      <td>0.10</td>\n",
       "      <td>1.00</td>\n",
       "      <td>0.48</td>\n",
       "      <td>0.13</td>\n",
       "      <td>0.47</td>\n",
       "      <td>0.36</td>\n",
       "      <td>0.14</td>\n",
       "      <td>0.18</td>\n",
       "    </tr>\n",
       "    <tr>\n",
       "      <th>VTI</th>\n",
       "      <td>0.99</td>\n",
       "      <td>0.19</td>\n",
       "      <td>0.11</td>\n",
       "      <td>0.48</td>\n",
       "      <td>1.00</td>\n",
       "      <td>0.64</td>\n",
       "      <td>0.79</td>\n",
       "      <td>0.51</td>\n",
       "      <td>0.43</td>\n",
       "      <td>0.61</td>\n",
       "    </tr>\n",
       "    <tr>\n",
       "      <th>IBM</th>\n",
       "      <td>0.65</td>\n",
       "      <td>0.07</td>\n",
       "      <td>0.08</td>\n",
       "      <td>0.13</td>\n",
       "      <td>0.64</td>\n",
       "      <td>1.00</td>\n",
       "      <td>0.44</td>\n",
       "      <td>0.19</td>\n",
       "      <td>0.43</td>\n",
       "      <td>0.50</td>\n",
       "    </tr>\n",
       "    <tr>\n",
       "      <th>AAPL</th>\n",
       "      <td>0.81</td>\n",
       "      <td>0.15</td>\n",
       "      <td>0.09</td>\n",
       "      <td>0.47</td>\n",
       "      <td>0.79</td>\n",
       "      <td>0.44</td>\n",
       "      <td>1.00</td>\n",
       "      <td>0.49</td>\n",
       "      <td>0.29</td>\n",
       "      <td>0.38</td>\n",
       "    </tr>\n",
       "    <tr>\n",
       "      <th>TSLA</th>\n",
       "      <td>0.49</td>\n",
       "      <td>0.08</td>\n",
       "      <td>0.08</td>\n",
       "      <td>0.36</td>\n",
       "      <td>0.51</td>\n",
       "      <td>0.19</td>\n",
       "      <td>0.49</td>\n",
       "      <td>1.00</td>\n",
       "      <td>0.06</td>\n",
       "      <td>0.24</td>\n",
       "    </tr>\n",
       "    <tr>\n",
       "      <th>VZ</th>\n",
       "      <td>0.45</td>\n",
       "      <td>0.11</td>\n",
       "      <td>0.09</td>\n",
       "      <td>0.14</td>\n",
       "      <td>0.43</td>\n",
       "      <td>0.43</td>\n",
       "      <td>0.29</td>\n",
       "      <td>0.06</td>\n",
       "      <td>1.00</td>\n",
       "      <td>0.28</td>\n",
       "    </tr>\n",
       "    <tr>\n",
       "      <th>GE</th>\n",
       "      <td>0.60</td>\n",
       "      <td>0.02</td>\n",
       "      <td>-0.02</td>\n",
       "      <td>0.18</td>\n",
       "      <td>0.61</td>\n",
       "      <td>0.50</td>\n",
       "      <td>0.38</td>\n",
       "      <td>0.24</td>\n",
       "      <td>0.28</td>\n",
       "      <td>1.00</td>\n",
       "    </tr>\n",
       "  </tbody>\n",
       "</table>\n",
       "</div>"
      ],
      "text/plain": [
       "       SPY   BND   GLD  NFLX   VTI   IBM  AAPL  TSLA    VZ    GE\n",
       "SPY   1.00  0.18  0.11  0.48  0.99  0.65  0.81  0.49  0.45  0.60\n",
       "BND   0.18  1.00  0.37  0.13  0.19  0.07  0.15  0.08  0.11  0.02\n",
       "GLD   0.11  0.37  1.00  0.10  0.11  0.08  0.09  0.08  0.09 -0.02\n",
       "NFLX  0.48  0.13  0.10  1.00  0.48  0.13  0.47  0.36  0.14  0.18\n",
       "VTI   0.99  0.19  0.11  0.48  1.00  0.64  0.79  0.51  0.43  0.61\n",
       "IBM   0.65  0.07  0.08  0.13  0.64  1.00  0.44  0.19  0.43  0.50\n",
       "AAPL  0.81  0.15  0.09  0.47  0.79  0.44  1.00  0.49  0.29  0.38\n",
       "TSLA  0.49  0.08  0.08  0.36  0.51  0.19  0.49  1.00  0.06  0.24\n",
       "VZ    0.45  0.11  0.09  0.14  0.43  0.43  0.29  0.06  1.00  0.28\n",
       "GE    0.60  0.02 -0.02  0.18  0.61  0.50  0.38  0.24  0.28  1.00"
      ]
     },
     "execution_count": 85,
     "metadata": {},
     "output_type": "execute_result"
    }
   ],
   "source": [
    "corr_matrix.round(2)"
   ]
  },
  {
   "cell_type": "code",
   "execution_count": null,
   "id": "ef7df80c",
   "metadata": {},
   "outputs": [],
   "source": []
  }
 ],
 "metadata": {
  "kernelspec": {
   "display_name": "Python 3 (ipykernel)",
   "language": "python",
   "name": "python3"
  },
  "language_info": {
   "codemirror_mode": {
    "name": "ipython",
    "version": 3
   },
   "file_extension": ".py",
   "mimetype": "text/x-python",
   "name": "python",
   "nbconvert_exporter": "python",
   "pygments_lexer": "ipython3",
   "version": "3.11.5"
  }
 },
 "nbformat": 4,
 "nbformat_minor": 5
}
